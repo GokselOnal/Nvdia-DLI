{
 "cells": [
  {
   "cell_type": "markdown",
   "id": "6141dc46",
   "metadata": {},
   "source": [
    "# Convolutional Neural Networks"
   ]
  },
  {
   "cell_type": "markdown",
   "id": "f92933b0",
   "metadata": {},
   "source": [
    "## Loading and Preparing the Data"
   ]
  },
  {
   "cell_type": "code",
   "execution_count": 1,
   "id": "80b3128c",
   "metadata": {},
   "outputs": [],
   "source": [
    "import tensorflow.keras as keras\n",
    "import pandas as pd\n",
    "\n",
    "# Load in our data from CSV files\n",
    "train_df = pd.read_csv(\"data/asl_data/sign_mnist_train.csv\")\n",
    "valid_df = pd.read_csv(\"data/asl_data/sign_mnist_valid.csv\")\n",
    "\n",
    "# Separate out our target values\n",
    "y_train = train_df['label']\n",
    "y_valid = valid_df['label']\n",
    "del train_df['label']\n",
    "del valid_df['label']\n",
    "\n",
    "# Separate out our image vectors\n",
    "x_train = train_df.values\n",
    "x_valid = valid_df.values\n",
    "\n",
    "# Turn our scalar targets into binary categories\n",
    "num_classes = 24\n",
    "y_train = keras.utils.to_categorical(y_train, num_classes)\n",
    "y_valid = keras.utils.to_categorical(y_valid, num_classes)\n",
    "\n",
    "# Normalize our image data\n",
    "x_train = x_train / 255\n",
    "x_valid = x_valid / 255"
   ]
  },
  {
   "cell_type": "markdown",
   "id": "dac8e382",
   "metadata": {},
   "source": [
    "## Reshaping Images for a CNN"
   ]
  },
  {
   "cell_type": "code",
   "execution_count": 2,
   "id": "06a4c865",
   "metadata": {},
   "outputs": [
    {
     "data": {
      "text/plain": [
       "((27455, 784), (7172, 784))"
      ]
     },
     "execution_count": 2,
     "metadata": {},
     "output_type": "execute_result"
    }
   ],
   "source": [
    "x_train.shape, x_valid.shape"
   ]
  },
  {
   "cell_type": "code",
   "execution_count": 3,
   "id": "71699231",
   "metadata": {},
   "outputs": [],
   "source": [
    "x_train = x_train.reshape(-1,28,28,1)\n",
    "x_valid = x_valid.reshape(-1,28,28,1)"
   ]
  },
  {
   "cell_type": "code",
   "execution_count": 4,
   "id": "82898af6",
   "metadata": {},
   "outputs": [
    {
     "data": {
      "text/plain": [
       "(27455, 28, 28, 1)"
      ]
     },
     "execution_count": 4,
     "metadata": {},
     "output_type": "execute_result"
    }
   ],
   "source": [
    "x_train.shape"
   ]
  },
  {
   "cell_type": "code",
   "execution_count": 5,
   "id": "5a73c3da",
   "metadata": {},
   "outputs": [
    {
     "data": {
      "text/plain": [
       "(7172, 28, 28, 1)"
      ]
     },
     "execution_count": 5,
     "metadata": {},
     "output_type": "execute_result"
    }
   ],
   "source": [
    "x_valid.shape"
   ]
  },
  {
   "cell_type": "code",
   "execution_count": 6,
   "id": "36dfebfb",
   "metadata": {},
   "outputs": [
    {
     "data": {
      "text/plain": [
       "((27455, 28, 28, 1), (7172, 28, 28, 1))"
      ]
     },
     "execution_count": 6,
     "metadata": {},
     "output_type": "execute_result"
    }
   ],
   "source": [
    "x_train.shape, x_valid.shape"
   ]
  },
  {
   "cell_type": "markdown",
   "id": "12f8ad4a",
   "metadata": {},
   "source": [
    "## Creating a Convolutional Model"
   ]
  },
  {
   "cell_type": "markdown",
   "id": "a2af555f",
   "metadata": {},
   "source": [
    "<img src=\"Images/cnn.png\" width=180 />"
   ]
  },
  {
   "cell_type": "code",
   "execution_count": 8,
   "id": "f49c5aec",
   "metadata": {},
   "outputs": [],
   "source": [
    "from tensorflow.keras.models import Sequential\n",
    "from tensorflow.keras.layers import (\n",
    "    Dense,\n",
    "    Conv2D,\n",
    "    MaxPool2D,\n",
    "    Flatten,\n",
    "    Dropout,\n",
    "    BatchNormalization,\n",
    ")\n",
    "\n",
    "model = Sequential()\n",
    "model.add(Conv2D(75, (3, 3), strides=1, padding=\"same\", activation=\"relu\", \n",
    "                 input_shape=(28, 28, 1)))\n",
    "model.add(BatchNormalization())\n",
    "model.add(MaxPool2D((2, 2), strides=2, padding=\"same\"))\n",
    "model.add(Conv2D(50, (3, 3), strides=1, padding=\"same\", activation=\"relu\"))\n",
    "model.add(Dropout(0.2))\n",
    "model.add(BatchNormalization())\n",
    "model.add(MaxPool2D((2, 2), strides=2, padding=\"same\"))\n",
    "model.add(Conv2D(25, (3, 3), strides=1, padding=\"same\", activation=\"relu\"))\n",
    "model.add(BatchNormalization())\n",
    "model.add(MaxPool2D((2, 2), strides=2, padding=\"same\"))\n",
    "model.add(Flatten())\n",
    "model.add(Dense(units=512, activation=\"relu\"))\n",
    "model.add(Dropout(0.3))\n",
    "model.add(Dense(units=num_classes, activation=\"softmax\"))"
   ]
  },
  {
   "cell_type": "code",
   "execution_count": 9,
   "id": "ef1a0b7b",
   "metadata": {},
   "outputs": [
    {
     "name": "stdout",
     "output_type": "stream",
     "text": [
      "Model: \"sequential\"\n",
      "_________________________________________________________________\n",
      "Layer (type)                 Output Shape              Param #   \n",
      "=================================================================\n",
      "conv2d (Conv2D)              (None, 28, 28, 75)        750       \n",
      "_________________________________________________________________\n",
      "batch_normalization (BatchNo (None, 28, 28, 75)        300       \n",
      "_________________________________________________________________\n",
      "max_pooling2d (MaxPooling2D) (None, 14, 14, 75)        0         \n",
      "_________________________________________________________________\n",
      "conv2d_1 (Conv2D)            (None, 14, 14, 50)        33800     \n",
      "_________________________________________________________________\n",
      "dropout (Dropout)            (None, 14, 14, 50)        0         \n",
      "_________________________________________________________________\n",
      "batch_normalization_1 (Batch (None, 14, 14, 50)        200       \n",
      "_________________________________________________________________\n",
      "max_pooling2d_1 (MaxPooling2 (None, 7, 7, 50)          0         \n",
      "_________________________________________________________________\n",
      "conv2d_2 (Conv2D)            (None, 7, 7, 25)          11275     \n",
      "_________________________________________________________________\n",
      "batch_normalization_2 (Batch (None, 7, 7, 25)          100       \n",
      "_________________________________________________________________\n",
      "max_pooling2d_2 (MaxPooling2 (None, 4, 4, 25)          0         \n",
      "_________________________________________________________________\n",
      "flatten (Flatten)            (None, 400)               0         \n",
      "_________________________________________________________________\n",
      "dense (Dense)                (None, 512)               205312    \n",
      "_________________________________________________________________\n",
      "dropout_1 (Dropout)          (None, 512)               0         \n",
      "_________________________________________________________________\n",
      "dense_1 (Dense)              (None, 24)                12312     \n",
      "=================================================================\n",
      "Total params: 264,049\n",
      "Trainable params: 263,749\n",
      "Non-trainable params: 300\n",
      "_________________________________________________________________\n"
     ]
    }
   ],
   "source": [
    "model.summary()"
   ]
  },
  {
   "cell_type": "markdown",
   "id": "f230d856",
   "metadata": {},
   "source": [
    "## Compiling the Model"
   ]
  },
  {
   "cell_type": "code",
   "execution_count": 10,
   "id": "7fdcd684",
   "metadata": {},
   "outputs": [],
   "source": [
    "model.compile(loss=\"categorical_crossentropy\", metrics=[\"accuracy\"])"
   ]
  },
  {
   "cell_type": "markdown",
   "id": "78b21808",
   "metadata": {},
   "source": [
    "## Training the Model"
   ]
  },
  {
   "cell_type": "code",
   "execution_count": 11,
   "id": "f4058ef4",
   "metadata": {},
   "outputs": [
    {
     "name": "stdout",
     "output_type": "stream",
     "text": [
      "Epoch 1/20\n",
      "858/858 [==============================] - 52s 59ms/step - loss: 0.3108 - accuracy: 0.9054 - val_loss: 0.2465 - val_accuracy: 0.9332\n",
      "Epoch 2/20\n",
      "858/858 [==============================] - 52s 61ms/step - loss: 0.0205 - accuracy: 0.9930 - val_loss: 0.2206 - val_accuracy: 0.9349\n",
      "Epoch 3/20\n",
      "858/858 [==============================] - 52s 60ms/step - loss: 0.0082 - accuracy: 0.9974 - val_loss: 0.1983 - val_accuracy: 0.9557\n",
      "Epoch 4/20\n",
      "858/858 [==============================] - 50s 58ms/step - loss: 0.0082 - accuracy: 0.9972 - val_loss: 0.3546 - val_accuracy: 0.9495\n",
      "Epoch 5/20\n",
      "858/858 [==============================] - 49s 57ms/step - loss: 0.0070 - accuracy: 0.9981 - val_loss: 0.2892 - val_accuracy: 0.9289\n",
      "Epoch 6/20\n",
      "858/858 [==============================] - 51s 59ms/step - loss: 0.0039 - accuracy: 0.9990 - val_loss: 0.2085 - val_accuracy: 0.9564\n",
      "Epoch 7/20\n",
      "858/858 [==============================] - 53s 61ms/step - loss: 0.0043 - accuracy: 0.9989 - val_loss: 0.1956 - val_accuracy: 0.9625\n",
      "Epoch 8/20\n",
      "858/858 [==============================] - 52s 60ms/step - loss: 0.0023 - accuracy: 0.9994 - val_loss: 0.3461 - val_accuracy: 0.9572\n",
      "Epoch 9/20\n",
      "858/858 [==============================] - 52s 61ms/step - loss: 0.0036 - accuracy: 0.9992 - val_loss: 0.5030 - val_accuracy: 0.9345\n",
      "Epoch 10/20\n",
      "858/858 [==============================] - 51s 59ms/step - loss: 0.0014 - accuracy: 0.9996 - val_loss: 0.1548 - val_accuracy: 0.9714\n",
      "Epoch 11/20\n",
      "858/858 [==============================] - 50s 58ms/step - loss: 0.0034 - accuracy: 0.9990 - val_loss: 0.1834 - val_accuracy: 0.9614\n",
      "Epoch 12/20\n",
      "858/858 [==============================] - 51s 59ms/step - loss: 0.0022 - accuracy: 0.9996 - val_loss: 0.1286 - val_accuracy: 0.9689\n",
      "Epoch 13/20\n",
      "858/858 [==============================] - 50s 59ms/step - loss: 0.0024 - accuracy: 0.9995 - val_loss: 0.3167 - val_accuracy: 0.9580\n",
      "Epoch 14/20\n",
      "858/858 [==============================] - 51s 59ms/step - loss: 0.0027 - accuracy: 0.9994 - val_loss: 0.4653 - val_accuracy: 0.9385\n",
      "Epoch 15/20\n",
      "858/858 [==============================] - 51s 60ms/step - loss: 7.4390e-04 - accuracy: 0.9997 - val_loss: 0.3118 - val_accuracy: 0.9586\n",
      "Epoch 16/20\n",
      "858/858 [==============================] - 51s 59ms/step - loss: 0.0018 - accuracy: 0.9996 - val_loss: 0.2086 - val_accuracy: 0.9668\n",
      "Epoch 17/20\n",
      "858/858 [==============================] - 51s 59ms/step - loss: 0.0016 - accuracy: 0.9998 - val_loss: 0.2875 - val_accuracy: 0.9629\n",
      "Epoch 18/20\n",
      "858/858 [==============================] - 52s 60ms/step - loss: 0.0022 - accuracy: 0.9996 - val_loss: 0.8636 - val_accuracy: 0.9083\n",
      "Epoch 19/20\n",
      "858/858 [==============================] - 52s 60ms/step - loss: 0.0015 - accuracy: 0.9996 - val_loss: 0.3577 - val_accuracy: 0.9564\n",
      "Epoch 20/20\n",
      "858/858 [==============================] - 52s 60ms/step - loss: 0.0012 - accuracy: 0.9997 - val_loss: 0.3069 - val_accuracy: 0.9677\n"
     ]
    },
    {
     "data": {
      "text/plain": [
       "<tensorflow.python.keras.callbacks.History at 0x1cbf3066040>"
      ]
     },
     "execution_count": 11,
     "metadata": {},
     "output_type": "execute_result"
    }
   ],
   "source": [
    "model.fit(x_train, y_train, epochs=20, verbose=1, validation_data=(x_valid, y_valid))"
   ]
  },
  {
   "cell_type": "code",
   "execution_count": null,
   "id": "edbfa9e4",
   "metadata": {},
   "outputs": [],
   "source": []
  }
 ],
 "metadata": {
  "kernelspec": {
   "display_name": "Python 3",
   "language": "python",
   "name": "python3"
  },
  "language_info": {
   "codemirror_mode": {
    "name": "ipython",
    "version": 3
   },
   "file_extension": ".py",
   "mimetype": "text/x-python",
   "name": "python",
   "nbconvert_exporter": "python",
   "pygments_lexer": "ipython3",
   "version": "3.8.8"
  }
 },
 "nbformat": 4,
 "nbformat_minor": 5
}
